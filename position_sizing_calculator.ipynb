{
 "cells": [
  {
   "cell_type": "markdown",
   "metadata": {
    "id": "G3kKKxoL1xNo"
   },
   "source": [
    "<h1>Calculator</h1>"
   ]
  },
  {
   "cell_type": "code",
   "execution_count": null,
   "metadata": {
    "id": "-Ox7M5AMXn6V"
   },
   "outputs": [],
   "source": [
    "def position_size_calculator(account_balance, exposure, entry_price, stop_loss_price):   \n",
    "    risked_amount = account_balance * (exposure / 100)\n",
    "    position_size = risked_amount * entry_price / abs(entry_price - stop_loss_price)\n",
    "    \n",
    "    if risked_amount >= account_balance:\n",
    "        print(\"You are using all your balance.\")\n",
    "        return account_balance\n",
    "    else:\n",
    "        return position_size\n",
    "\n",
    "\n"
   ]
  },
  {
   "cell_type": "markdown",
   "metadata": {
    "id": "BEmSeIfaXn6V"
   },
   "source": [
    "<h1>Example</h1>"
   ]
  },
  {
   "cell_type": "code",
   "execution_count": 12,
   "metadata": {},
   "outputs": [
    {
     "name": "stdout",
     "output_type": "stream",
     "text": [
      "Position Size: 1000.0\n"
     ]
    }
   ],
   "source": [
    "account_balance = 10000  # in currency\n",
    "exposure = 2\n",
    "\n",
    "entry_price = 100    # in currency\n",
    "stop_loss_price = 80 # in currency\n",
    "\n",
    "position_size = position_size_calculator(account_balance, exposure, entry_price, stop_loss_price)\n",
    "print(f\"Position Size: {position_size}\")"
   ]
  },
  {
   "cell_type": "code",
   "execution_count": null,
   "metadata": {},
   "outputs": [],
   "source": []
  }
 ],
 "metadata": {
  "colab": {
   "collapsed_sections": [],
   "provenance": []
  },
  "kernelspec": {
   "display_name": "Python 3 (ipykernel)",
   "language": "python",
   "name": "python3"
  },
  "language_info": {
   "codemirror_mode": {
    "name": "ipython",
    "version": 3
   },
   "file_extension": ".py",
   "mimetype": "text/x-python",
   "name": "python",
   "nbconvert_exporter": "python",
   "pygments_lexer": "ipython3",
   "version": "3.10.6"
  }
 },
 "nbformat": 4,
 "nbformat_minor": 1
}
