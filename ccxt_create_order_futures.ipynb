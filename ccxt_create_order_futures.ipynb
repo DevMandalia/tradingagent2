{
 "cells": [
  {
   "cell_type": "markdown",
   "metadata": {
    "id": "-nCTjinN1dXd"
   },
   "source": [
    "<h1>Set Up</h1>"
   ]
  },
  {
   "cell_type": "code",
   "execution_count": null,
   "metadata": {
    "id": "FQpoFECiJiLG"
   },
   "outputs": [],
   "source": [
    "%pip install ccxt"
   ]
  },
  {
   "cell_type": "code",
   "execution_count": null,
   "metadata": {
    "id": "ix8j_V3gWOt5"
   },
   "outputs": [],
   "source": [
    "import ccxt"
   ]
  },
  {
   "cell_type": "markdown",
   "metadata": {
    "id": "VLyBtxe4Xn6U"
   },
   "source": [
    "<h1>API Keys</h1>"
   ]
  },
  {
   "cell_type": "code",
   "execution_count": null,
   "metadata": {
    "id": "-Ox7M5AMXn6V"
   },
   "outputs": [],
   "source": [
    "authentification = {\n",
    "    \"apiKey\": \"64c8f84e5021d30001acf831\",\n",
    "    \"secret\": \"f4423035-7ef2-45fd-bee2-6be364d525d4\",\n",
    "    \"password\": \"create_orders_tutorial\",\n",
    "}\n",
    "\n",
    "exchange = ccxt.kucoinfutures(authentification)"
   ]
  },
  {
   "cell_type": "code",
   "execution_count": null,
   "metadata": {},
   "outputs": [],
   "source": [
    "print(\"USDT\", exchange.fetchBalance()[\"USDT\"])"
   ]
  },
  {
   "cell_type": "code",
   "execution_count": null,
   "metadata": {},
   "outputs": [],
   "source": [
    "print(exchange.fetch_markets())"
   ]
  },
  {
   "cell_type": "markdown",
   "metadata": {
    "id": "BCbiru_pp1-V"
   },
   "source": [
    "<h1>Longs</h1>"
   ]
  },
  {
   "cell_type": "code",
   "execution_count": null,
   "metadata": {
    "id": "ZqmRXvC8p1-X"
   },
   "outputs": [],
   "source": [
    "symbol = 'ADAUSDTM'    # Symbol for the pair you want to trade\n",
    "order_type = 'market'  # Type of order you're creating\n",
    "\n",
    "side = 'buy'           # Side of order, either 'long' or 'short'\n",
    "amount_in_usdt = 1      \n",
    "current_price = (exchange.fetchTicker(symbol)['ask'] + exchange.fetchTicker(symbol)['bid'] ) / 2\n",
    "amount = amount_in_usdt / current_price\n",
    "\n",
    "\n",
    "params = {'leverage': 5}  # Set leverage and place order\n",
    "\n",
    "order = exchange.create_order(symbol, order_type, side, amount, params = params)"
   ]
  },
  {
   "cell_type": "markdown",
   "metadata": {
    "id": "u8sIwdzpp1-Y"
   },
   "source": [
    "<h1>Shorts</h1>"
   ]
  },
  {
   "cell_type": "code",
   "execution_count": null,
   "metadata": {},
   "outputs": [],
   "source": [
    "symbol = 'ADAUSDTM'    \n",
    "order_type = 'market'   \n",
    "\n",
    "side = 'sell'          \n",
    "amount_in_usdt = 1      \n",
    "current_price = (exchange.fetchTicker(symbol)['ask'] + exchange.fetchTicker(symbol)['bid'] ) / 2\n",
    "amount = amount_in_usdt / current_price\n",
    "\n",
    "\n",
    "params = {'leverage': 5}\n",
    "\n",
    "order = exchange.create_order(symbol, order_type, side, amount, params = params)"
   ]
  },
  {
   "cell_type": "markdown",
   "metadata": {},
   "source": [
    "<h1>Order with condition on price</h1>"
   ]
  },
  {
   "cell_type": "code",
   "execution_count": null,
   "metadata": {},
   "outputs": [],
   "source": [
    "symbol = 'ADAUSDTM'    \n",
    "order_type = 'limit'   \n",
    "\n",
    "side = 'sell'           \n",
    "amount_in_usdt = 1      \n",
    "current_price = (exchange.fetchTicker(symbol)['ask'] + exchange.fetchTicker(symbol)['bid'] ) / 2\n",
    "amount = amount_in_usdt / current_price\n",
    "\n",
    "trigger_price = 0.25 # stop price\n",
    "sell_price = 0.245   # price\n",
    "\n",
    "params = {'leverage': 5, 'stop': 'down', 'stopPrice': trigger_price , 'stopPriceType': 'MP'}\n",
    "order = exchange.create_order(symbol, order_type, side, amount, sell_price, params = params)"
   ]
  },
  {
   "cell_type": "code",
   "execution_count": null,
   "metadata": {},
   "outputs": [],
   "source": [
    "#bybit.set_leverage(leverage, symbol)\n",
    "#bybit.create_order(symbol, order_type, side, amount)"
   ]
  }
 ],
 "metadata": {
  "colab": {
   "collapsed_sections": [],
   "provenance": []
  },
  "kernelspec": {
   "display_name": "Python 3 (ipykernel)",
   "language": "python",
   "name": "python3"
  },
  "language_info": {
   "codemirror_mode": {
    "name": "ipython",
    "version": 3
   },
   "file_extension": ".py",
   "mimetype": "text/x-python",
   "name": "python",
   "nbconvert_exporter": "python",
   "pygments_lexer": "ipython3",
   "version": "3.10.12"
  }
 },
 "nbformat": 4,
 "nbformat_minor": 1
}
