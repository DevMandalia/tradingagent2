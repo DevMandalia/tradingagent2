{
 "cells": [
  {
   "cell_type": "code",
   "execution_count": null,
   "id": "initial_id",
   "metadata": {
    "ExecuteTime": {
     "end_time": "2024-08-01T10:47:47.991351Z",
     "start_time": "2024-08-01T10:47:47.988371Z"
    },
    "collapsed": true
   },
   "outputs": [],
   "source": [
    "import json\n",
    "import ccxt"
   ]
  },
  {
   "cell_type": "code",
   "execution_count": null,
   "id": "a84bcee339229589",
   "metadata": {
    "ExecuteTime": {
     "end_time": "2024-08-01T10:47:48.003255Z",
     "start_time": "2024-08-01T10:47:47.995361Z"
    }
   },
   "outputs": [],
   "source": [
    "with open(\"secret.json\", \"r\") as f:\n",
    "    api_key = json.load(f)['devtest']\n",
    "\n",
    "authentification = {\n",
    "    \"apiKey\": api_key['apiKey'],\n",
    "    \"secret\": api_key['secret'],\n",
    "    \"password\": api_key['password'],\n",
    "}\n",
    "\n",
    "bitget = ccxt.bitget(authentification)"
   ]
  },
  {
   "cell_type": "code",
   "execution_count": null,
   "id": "dfd00f5d0eb47283",
   "metadata": {
    "ExecuteTime": {
     "end_time": "2024-08-01T10:47:55.122887Z",
     "start_time": "2024-08-01T10:47:48.004342Z"
    }
   },
   "outputs": [],
   "source": [
    "balance = bitget.fetch_balance(params={'defaultType': 'future'})['USDT']\n",
    "print(balance)"
   ]
  },
  {
   "cell_type": "code",
   "execution_count": null,
   "id": "b8741ac605dfcee3",
   "metadata": {
    "ExecuteTime": {
     "end_time": "2024-08-01T10:54:09.128809Z",
     "start_time": "2024-08-01T10:54:08.656534Z"
    }
   },
   "outputs": [],
   "source": [
    "symbol = 'LINK/USDT:USDT'\n",
    "entry_type = 'market'\n",
    "entry_side = 'buy'\n",
    "entry_amount = bitget.amount_to_precision(symbol, 2)\n",
    "params = {'marginMode': 'isolated'}\n",
    "\n",
    "order = bitget.create_order(symbol, entry_type, entry_side, entry_amount, params=params)\n",
    "print(order)"
   ]
  },
  {
   "cell_type": "code",
   "execution_count": null,
   "id": "a1dcd0ab89b4e9e5",
   "metadata": {
    "ExecuteTime": {
     "end_time": "2024-08-01T10:54:23.554653Z",
     "start_time": "2024-08-01T10:54:23.098815Z"
    }
   },
   "outputs": [],
   "source": [
    "entry_side = 'sell'\n",
    "params = {\n",
    "    'reduceOnly': True,\n",
    "    'trailingTriggerPrice': bitget.price_to_precision(symbol, 12),\n",
    "    'trailingPercent': 5.,\n",
    "}\n",
    "\n",
    "order = bitget.create_order(symbol, entry_type, entry_side, entry_amount, params=params)\n",
    "print(order)"
   ]
  }
 ],
 "metadata": {
  "kernelspec": {
   "display_name": "Python 3",
   "language": "python",
   "name": "python3"
  },
  "language_info": {
   "codemirror_mode": {
    "name": "ipython",
    "version": 3
   },
   "file_extension": ".py",
   "mimetype": "text/x-python",
   "name": "python",
   "nbconvert_exporter": "python",
   "pygments_lexer": "ipython3",
   "version": "3.12.0"
  }
 },
 "nbformat": 4,
 "nbformat_minor": 5
}
