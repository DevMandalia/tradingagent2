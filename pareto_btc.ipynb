{
 "cells": [
  {
   "cell_type": "code",
   "execution_count": null,
   "metadata": {},
   "outputs": [],
   "source": [
    "import matplotlib.pyplot as plt\n",
    "import yfinance as yf"
   ]
  },
  {
   "cell_type": "code",
   "execution_count": null,
   "metadata": {},
   "outputs": [],
   "source": [
    "# 1. Download daily Bitcoin prices for the year 2024\n",
    "df = yf.download(\"BTC-USD\", start=\"2024-01-01\", end=\"2024-12-31\")\n",
    "df = df[['Close']]\n",
    "df.rename(columns={'Close': 'price'}, inplace=True)\n",
    "\n",
    "# 2. Calculate cumulative performance (cumulative percentage gain)\n",
    "df['daily_return'] = df['price'].pct_change()  # Daily percentage return\n",
    "df['cumulative_return'] = (1 + df['daily_return']).cumprod() - 1  # Cumulative performance"
   ]
  },
  {
   "cell_type": "code",
   "execution_count": null,
   "metadata": {},
   "outputs": [],
   "source": [
    "# 3. Identify the n highest daily increases and remove them\n",
    "n = 5\n",
    "top_n_increases = df['daily_return'].nlargest(n)  # Extract the n highest increases\n",
    "df_adjusted = df.drop(top_n_increases.index)  # Remove those days from the dataset\n",
    "\n",
    "# Recalculate cumulative performance without the n highest daily increases\n",
    "df_adjusted['cumulative_return'] = (1 + df_adjusted['daily_return']).cumprod() - 1\n",
    "\n",
    "# 4. Plot the percentage gain curves\n",
    "plt.figure(figsize=(10, 5))\n",
    "plt.plot(df.index, df['cumulative_return'] * 100, label=\"Gain % with all data\", linewidth=2)\n",
    "plt.plot(df_adjusted.index, df_adjusted['cumulative_return'] * 100, label=f\"Gain % without the {str(n)} highest daily increases\", linestyle=\"--\", linewidth=2)\n",
    "plt.title(f\"Impact of the {str(n)} highest daily increases on Bitcoin performance (2024)\")\n",
    "plt.xlabel(\"Date\")\n",
    "plt.ylabel(\"Gain %\")\n",
    "plt.legend()\n",
    "plt.grid(True)\n",
    "plt.show()"
   ]
  }
 ],
 "metadata": {
  "kernelspec": {
   "display_name": "Python 3",
   "language": "python",
   "name": "python3"
  },
  "language_info": {
   "codemirror_mode": {
    "name": "ipython",
    "version": 3
   },
   "file_extension": ".py",
   "mimetype": "text/x-python",
   "name": "python",
   "nbconvert_exporter": "python",
   "pygments_lexer": "ipython3",
   "version": "3.12.6"
  }
 },
 "nbformat": 4,
 "nbformat_minor": 2
}
