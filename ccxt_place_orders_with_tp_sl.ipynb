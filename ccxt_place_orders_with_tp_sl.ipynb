{
 "cells": [
  {
   "cell_type": "code",
   "execution_count": null,
   "id": "initial_id",
   "metadata": {
    "ExecuteTime": {
     "end_time": "2024-08-01T10:50:00.228716Z",
     "start_time": "2024-08-01T10:49:59.710522Z"
    },
    "collapsed": true
   },
   "outputs": [],
   "source": [
    "import json\n",
    "import ccxt"
   ]
  },
  {
   "cell_type": "code",
   "execution_count": null,
   "id": "a84bcee339229589",
   "metadata": {
    "ExecuteTime": {
     "end_time": "2024-08-01T10:50:00.238484Z",
     "start_time": "2024-08-01T10:50:00.229724Z"
    }
   },
   "outputs": [],
   "source": [
    "with open(\"secret.json\", \"r\") as f:\n",
    "    api_key = json.load(f)['devtest']\n",
    "\n",
    "authentification = {\n",
    "    \"apiKey\": api_key['apiKey'],\n",
    "    \"secret\": api_key['secret'],\n",
    "    \"password\": api_key['password'],\n",
    "}\n",
    "\n",
    "bitget = ccxt.bitget(authentification)"
   ]
  },
  {
   "cell_type": "code",
   "execution_count": null,
   "id": "dfd00f5d0eb47283",
   "metadata": {
    "ExecuteTime": {
     "end_time": "2024-08-01T10:50:07.687273Z",
     "start_time": "2024-08-01T10:50:00.238484Z"
    }
   },
   "outputs": [],
   "source": [
    "balance = bitget.fetch_balance(params={'defaultType': 'future'})['USDT']\n",
    "print(balance)"
   ]
  },
  {
   "cell_type": "code",
   "execution_count": null,
   "id": "a1dcd0ab89b4e9e5",
   "metadata": {
    "ExecuteTime": {
     "end_time": "2024-08-01T10:50:14.473124Z",
     "start_time": "2024-08-01T10:50:14.431098Z"
    }
   },
   "outputs": [],
   "source": [
    "symbol = 'LINK/USDT:USDT'\n",
    "entry_type = 'market'\n",
    "entry_side = 'buy'\n",
    "entry_amount = bitget.amount_to_precision(symbol, 2)\n",
    "params = {\n",
    "    'stopLoss': {\n",
    "        'triggerPrice': bitget.price_to_precision(symbol, 8),\n",
    "    },\n",
    "    'takeProfit': {\n",
    "        'triggerPrice': bitget.price_to_precision(symbol, 14),\n",
    "        },\n",
    "    'marginMode': 'isolated'\n",
    "}\n",
    "\n",
    "order = bitget.create_order(symbol, entry_type, entry_side, entry_amount, params=params)\n",
    "print(order)"
   ]
  },
  {
   "cell_type": "code",
   "execution_count": null,
   "id": "2c82f5582986fde6",
   "metadata": {},
   "outputs": [],
   "source": [
    "order_info = bitget.fetch_order(order['id'], symbol)\n",
    "print(order_info)"
   ]
  },
  {
   "cell_type": "code",
   "execution_count": null,
   "id": "e0840bab",
   "metadata": {},
   "outputs": [],
   "source": [
    "symbol = 'LINK/USDT:USDT'\n",
    "order_type = 'limit'\n",
    "entry_side = 'buy'\n",
    "entry_amount = bitget.amount_to_precision(symbol, 2)\n",
    "execution_price = bitget.amount_to_precision(symbol, 9)\n",
    "params = {\n",
    "    'stopLoss': {\n",
    "        'triggerPrice': bitget.price_to_precision(symbol, 8),\n",
    "    },\n",
    "    # 'takeProfit': {\n",
    "    #     'triggerPrice': bitget.price_to_precision(symbol, 0.11),\n",
    "    #     },\n",
    "    'marginMode': 'isolated',\n",
    "}\n",
    "\n",
    "order = bitget.create_order(symbol, order_type, entry_side, entry_amount, execution_price, params=params)\n",
    "order_info = bitget.fetch_order(order['id'], symbol)\n",
    "print(order_info)"
   ]
  }
 ],
 "metadata": {
  "kernelspec": {
   "display_name": "Python 3",
   "language": "python",
   "name": "python3"
  },
  "language_info": {
   "codemirror_mode": {
    "name": "ipython",
    "version": 3
   },
   "file_extension": ".py",
   "mimetype": "text/x-python",
   "name": "python",
   "nbconvert_exporter": "python",
   "pygments_lexer": "ipython3",
   "version": "3.12.0"
  }
 },
 "nbformat": 4,
 "nbformat_minor": 5
}
