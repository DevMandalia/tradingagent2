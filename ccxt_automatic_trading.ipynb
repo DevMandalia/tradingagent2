{
  "cells": [
    {
      "cell_type": "markdown",
      "metadata": {
        "id": "-nCTjinN1dXd"
      },
      "source": [
        "<h1>Set Up</h1>"
      ]
    },
    {
      "cell_type": "code",
      "execution_count": 1,
      "metadata": {
        "id": "FQpoFECiJiLG",
        "colab": {
          "base_uri": "https://localhost:8080/"
        },
        "outputId": "5f56c1af-f576-4e46-dc21-b85a58cc164e"
      },
      "outputs": [
        {
          "output_type": "stream",
          "name": "stdout",
          "text": [
            "Collecting ccxt\n",
            "  Downloading ccxt-4.4.78-py2.py3-none-any.whl.metadata (131 kB)\n",
            "\u001b[2K     \u001b[90m━━━━━━━━━━━━━━━━━━━━━━━━━━━━━━━━━━━━━━━\u001b[0m \u001b[32m131.0/131.0 kB\u001b[0m \u001b[31m1.5 MB/s\u001b[0m eta \u001b[36m0:00:00\u001b[0m\n",
            "\u001b[?25hRequirement already satisfied: setuptools>=60.9.0 in /usr/local/lib/python3.11/dist-packages (from ccxt) (75.2.0)\n",
            "Requirement already satisfied: certifi>=2018.1.18 in /usr/local/lib/python3.11/dist-packages (from ccxt) (2025.4.26)\n",
            "Requirement already satisfied: requests>=2.18.4 in /usr/local/lib/python3.11/dist-packages (from ccxt) (2.32.3)\n",
            "Requirement already satisfied: cryptography>=2.6.1 in /usr/local/lib/python3.11/dist-packages (from ccxt) (43.0.3)\n",
            "Requirement already satisfied: typing-extensions>=4.4.0 in /usr/local/lib/python3.11/dist-packages (from ccxt) (4.13.2)\n",
            "Collecting aiohttp<=3.10.11 (from ccxt)\n",
            "  Downloading aiohttp-3.10.11-cp311-cp311-manylinux_2_17_x86_64.manylinux2014_x86_64.whl.metadata (7.7 kB)\n",
            "Collecting aiodns>=1.1.1 (from ccxt)\n",
            "  Downloading aiodns-3.3.0-py3-none-any.whl.metadata (4.7 kB)\n",
            "Requirement already satisfied: yarl>=1.7.2 in /usr/local/lib/python3.11/dist-packages (from ccxt) (1.20.0)\n",
            "Collecting pycares>=4.0.0 (from aiodns>=1.1.1->ccxt)\n",
            "  Downloading pycares-4.8.0-cp311-cp311-manylinux_2_17_x86_64.manylinux2014_x86_64.whl.metadata (4.3 kB)\n",
            "Requirement already satisfied: aiohappyeyeballs>=2.3.0 in /usr/local/lib/python3.11/dist-packages (from aiohttp<=3.10.11->ccxt) (2.6.1)\n",
            "Requirement already satisfied: aiosignal>=1.1.2 in /usr/local/lib/python3.11/dist-packages (from aiohttp<=3.10.11->ccxt) (1.3.2)\n",
            "Requirement already satisfied: attrs>=17.3.0 in /usr/local/lib/python3.11/dist-packages (from aiohttp<=3.10.11->ccxt) (25.3.0)\n",
            "Requirement already satisfied: frozenlist>=1.1.1 in /usr/local/lib/python3.11/dist-packages (from aiohttp<=3.10.11->ccxt) (1.6.0)\n",
            "Requirement already satisfied: multidict<7.0,>=4.5 in /usr/local/lib/python3.11/dist-packages (from aiohttp<=3.10.11->ccxt) (6.4.3)\n",
            "Requirement already satisfied: cffi>=1.12 in /usr/local/lib/python3.11/dist-packages (from cryptography>=2.6.1->ccxt) (1.17.1)\n",
            "Requirement already satisfied: charset-normalizer<4,>=2 in /usr/local/lib/python3.11/dist-packages (from requests>=2.18.4->ccxt) (3.4.1)\n",
            "Requirement already satisfied: idna<4,>=2.5 in /usr/local/lib/python3.11/dist-packages (from requests>=2.18.4->ccxt) (3.10)\n",
            "Requirement already satisfied: urllib3<3,>=1.21.1 in /usr/local/lib/python3.11/dist-packages (from requests>=2.18.4->ccxt) (2.4.0)\n",
            "Requirement already satisfied: propcache>=0.2.1 in /usr/local/lib/python3.11/dist-packages (from yarl>=1.7.2->ccxt) (0.3.1)\n",
            "Requirement already satisfied: pycparser in /usr/local/lib/python3.11/dist-packages (from cffi>=1.12->cryptography>=2.6.1->ccxt) (2.22)\n",
            "Downloading ccxt-4.4.78-py2.py3-none-any.whl (5.8 MB)\n",
            "\u001b[2K   \u001b[90m━━━━━━━━━━━━━━━━━━━━━━━━━━━━━━━━━━━━━━━━\u001b[0m \u001b[32m5.8/5.8 MB\u001b[0m \u001b[31m41.0 MB/s\u001b[0m eta \u001b[36m0:00:00\u001b[0m\n",
            "\u001b[?25hDownloading aiodns-3.3.0-py3-none-any.whl (6.3 kB)\n",
            "Downloading aiohttp-3.10.11-cp311-cp311-manylinux_2_17_x86_64.manylinux2014_x86_64.whl (1.3 MB)\n",
            "\u001b[2K   \u001b[90m━━━━━━━━━━━━━━━━━━━━━━━━━━━━━━━━━━━━━━━━\u001b[0m \u001b[32m1.3/1.3 MB\u001b[0m \u001b[31m46.7 MB/s\u001b[0m eta \u001b[36m0:00:00\u001b[0m\n",
            "\u001b[?25hDownloading pycares-4.8.0-cp311-cp311-manylinux_2_17_x86_64.manylinux2014_x86_64.whl (626 kB)\n",
            "\u001b[2K   \u001b[90m━━━━━━━━━━━━━━━━━━━━━━━━━━━━━━━━━━━━━━━━\u001b[0m \u001b[32m626.2/626.2 kB\u001b[0m \u001b[31m38.7 MB/s\u001b[0m eta \u001b[36m0:00:00\u001b[0m\n",
            "\u001b[?25hInstalling collected packages: pycares, aiohttp, aiodns, ccxt\n",
            "  Attempting uninstall: aiohttp\n",
            "    Found existing installation: aiohttp 3.11.15\n",
            "    Uninstalling aiohttp-3.11.15:\n",
            "      Successfully uninstalled aiohttp-3.11.15\n",
            "Successfully installed aiodns-3.3.0 aiohttp-3.10.11 ccxt-4.4.78 pycares-4.8.0\n"
          ]
        }
      ],
      "source": [
        "%pip install ccxt"
      ]
    },
    {
      "cell_type": "code",
      "execution_count": 2,
      "metadata": {
        "id": "ix8j_V3gWOt5"
      },
      "outputs": [],
      "source": [
        "import ccxt"
      ]
    },
    {
      "cell_type": "markdown",
      "metadata": {
        "id": "VLyBtxe4Xn6U"
      },
      "source": [
        "<h1>API Keys</h1>"
      ]
    },
    {
      "cell_type": "code",
      "execution_count": null,
      "metadata": {
        "id": "xRKG2uVuCeqN"
      },
      "outputs": [],
      "source": [
        "exchange = ccxt.binance()\n",
        "exchange.requiredCredentials"
      ]
    },
    {
      "cell_type": "code",
      "execution_count": null,
      "metadata": {
        "id": "-Ox7M5AMXn6V"
      },
      "outputs": [],
      "source": [
        "authentification = {\n",
        "    \"password\": \"\",\n",
        "    \"apiKey\": \"\",\n",
        "    \"secret\": \"\",\n",
        "}\n",
        "\n",
        "exchange = ccxt.kucoin(authentification)"
      ]
    },
    {
      "cell_type": "markdown",
      "metadata": {
        "id": "w_CdcTETLlDZ"
      },
      "source": [
        "<h1>Fetch Balance</h1>"
      ]
    },
    {
      "cell_type": "code",
      "execution_count": null,
      "metadata": {
        "scrolled": true,
        "id": "PhteKctILlDa"
      },
      "outputs": [],
      "source": [
        "print(exchange.fetchBalance())"
      ]
    },
    {
      "cell_type": "code",
      "execution_count": null,
      "metadata": {
        "id": "3oVy2xi1LlDb"
      },
      "outputs": [],
      "source": [
        "print(exchange.fetchBalance()['USDT'])\n",
        "print(exchange.fetchBalance()['BTC'])"
      ]
    },
    {
      "cell_type": "code",
      "execution_count": null,
      "metadata": {
        "id": "gdAhB1RlLlDc"
      },
      "outputs": [],
      "source": [
        "usdt_available = exchange.fetchBalance()['USDT']['free']\n",
        "print(usdt_available)"
      ]
    },
    {
      "cell_type": "markdown",
      "metadata": {
        "id": "BCbiru_pp1-V"
      },
      "source": [
        "<h1>Load Markets</h1>"
      ]
    },
    {
      "cell_type": "code",
      "execution_count": null,
      "metadata": {
        "id": "ZqmRXvC8p1-X"
      },
      "outputs": [],
      "source": [
        "markets = exchange.loadMarkets()\n",
        "print(markets)"
      ]
    },
    {
      "cell_type": "code",
      "execution_count": null,
      "metadata": {
        "scrolled": true,
        "id": "EZ5pWoWWLlDe"
      },
      "outputs": [],
      "source": [
        "print(exchange.loadMarkets()['BTC/USDT'])"
      ]
    },
    {
      "cell_type": "markdown",
      "metadata": {
        "id": "3EwiqqI_LlDe"
      },
      "source": [
        "<h1>Fetch ticker</h1>"
      ]
    },
    {
      "cell_type": "code",
      "execution_count": null,
      "metadata": {
        "id": "RapT_P8LLlDf"
      },
      "outputs": [],
      "source": [
        "ticker = exchange.fetchTicker('ADA/USDT')\n",
        "print(ticker)"
      ]
    },
    {
      "cell_type": "code",
      "execution_count": null,
      "metadata": {
        "id": "N-l9pGO0LlDf"
      },
      "outputs": [],
      "source": [
        "print('Bid price is', ticker['bid'], 'USDT')"
      ]
    },
    {
      "cell_type": "markdown",
      "metadata": {
        "id": "u8sIwdzpp1-Y"
      },
      "source": [
        "<h1>Place Orders</h1>"
      ]
    },
    {
      "cell_type": "code",
      "execution_count": null,
      "metadata": {
        "id": "TmWuXIkjLlDf"
      },
      "outputs": [],
      "source": [
        "symbol = 'ADA/USDT'\n",
        "order_type = 'limit'\n",
        "side = 'buy'\n",
        "\n",
        "base_price = 0.1  # The price at which you want to buy or sell\n",
        "\n",
        "amount_in_usdt = 10.\n",
        "# amount_in_usdt = usdt_available / 2.\n",
        "current_price = (exchange.fetchTicker(symbol)['ask'] + exchange.fetchTicker(symbol)['bid'] ) / 2\n",
        "amount = amount_in_usdt / current_price\n",
        "\n",
        "order = exchange.createOrder(symbol, order_type, side, amount, base_price)"
      ]
    },
    {
      "cell_type": "code",
      "execution_count": null,
      "metadata": {
        "id": "yt5dLuSBp1-Y"
      },
      "outputs": [],
      "source": [
        "print(order)"
      ]
    },
    {
      "cell_type": "markdown",
      "metadata": {
        "id": "Q3_a2nlXLlDh"
      },
      "source": [
        "<h1>Fetch Orders</h1>"
      ]
    },
    {
      "cell_type": "code",
      "execution_count": null,
      "metadata": {
        "id": "C773cdvuLlDh"
      },
      "outputs": [],
      "source": [
        "order_status = exchange.fetchOrder(order['id'])\n",
        "print(order_status)"
      ]
    },
    {
      "cell_type": "markdown",
      "metadata": {
        "id": "trqnZSx_LlDh"
      },
      "source": [
        "<h1>Cancel Orders</h1>"
      ]
    },
    {
      "cell_type": "code",
      "execution_count": null,
      "metadata": {
        "id": "vrzs5gJWLlDh"
      },
      "outputs": [],
      "source": [
        "exchange.cancelOrder(order['id'], symbol)"
      ]
    }
  ],
  "metadata": {
    "colab": {
      "provenance": []
    },
    "kernelspec": {
      "display_name": "Python 3 (ipykernel)",
      "language": "python",
      "name": "python3"
    },
    "language_info": {
      "codemirror_mode": {
        "name": "ipython",
        "version": 3
      },
      "file_extension": ".py",
      "mimetype": "text/x-python",
      "name": "python",
      "nbconvert_exporter": "python",
      "pygments_lexer": "ipython3",
      "version": "3.10.12"
    }
  },
  "nbformat": 4,
  "nbformat_minor": 0
}