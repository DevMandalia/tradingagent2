{
 "cells": [
  {
   "cell_type": "markdown",
   "metadata": {
    "id": "-nCTjinN1dXd"
   },
   "source": [
    "<h1>Set Up</h1>"
   ]
  },
  {
   "cell_type": "code",
   "execution_count": null,
   "metadata": {
    "id": "FQpoFECiJiLG"
   },
   "outputs": [],
   "source": [
    "%pip install ccxt"
   ]
  },
  {
   "cell_type": "code",
   "execution_count": null,
   "metadata": {
    "id": "ix8j_V3gWOt5"
   },
   "outputs": [],
   "source": [
    "import ccxt"
   ]
  },
  {
   "cell_type": "markdown",
   "metadata": {
    "id": "VLyBtxe4Xn6U"
   },
   "source": [
    "<h1>API Keys</h1>"
   ]
  },
  {
   "cell_type": "code",
   "execution_count": null,
   "metadata": {
    "id": "xRKG2uVuCeqN"
   },
   "outputs": [],
   "source": [
    "#exchange = ccxt.kucoin()\n",
    "#exchange.requiredCredentials"
   ]
  },
  {
   "cell_type": "code",
   "execution_count": null,
   "metadata": {
    "id": "-Ox7M5AMXn6V"
   },
   "outputs": [],
   "source": [
    "authentification = {\n",
    "    \"apiKey\": \"64c8f84e5021d30001acf831\",\n",
    "    \"secret\": \"f4423035-7ef2-45fd-bee2-6be364d525d4\",\n",
    "    \"password\": \"create_orders_tutorial\",\n",
    "}\n",
    "\n",
    "exchange = ccxt.kucoin(authentification)"
   ]
  },
  {
   "cell_type": "code",
   "execution_count": null,
   "metadata": {},
   "outputs": [],
   "source": [
    "print(\"USDT\", exchange.fetchBalance()[\"USDT\"])"
   ]
  },
  {
   "cell_type": "markdown",
   "metadata": {
    "id": "BCbiru_pp1-V"
   },
   "source": [
    "<h1>Market Orders</h1>"
   ]
  },
  {
   "cell_type": "code",
   "execution_count": null,
   "metadata": {
    "id": "ZqmRXvC8p1-X"
   },
   "outputs": [],
   "source": [
    "symbol = 'ADA/USDT'    # Symbol for the pair you want to trade\n",
    "order_type = 'market'  # Type of order you're creating\n",
    "side = 'buy'           # Side of order, either 'buy' or 'sell'\n",
    "amount = 1             # The amount you want to buy or sell in the base currency\n",
    "\n",
    "order = exchange.create_order(symbol, order_type, side, amount)"
   ]
  },
  {
   "cell_type": "code",
   "execution_count": null,
   "metadata": {},
   "outputs": [],
   "source": [
    "symbol = 'ADA/USDT'     # Symbol for the pair you want to trade\n",
    "order_type = 'market'   # Type of order you're creating\n",
    "side = 'buy'           # Side of order, either 'buy' or 'sell'\n",
    "\n",
    "# Fetch the current price\n",
    "current_price = (exchange.fetchTicker(symbol)['ask'] + exchange.fetchTicker(symbol)['bid'] ) / 2\n",
    "# current_price = ticker['last']\n",
    "# print(exchange.fetch_ticker(symbol))\n",
    "\n",
    "amount_in_usdt = 1 # Specify the amount in terms of the quote currency\n",
    "amount = amount_in_usdt / current_price  # Convert to the base currency\n",
    "\n",
    "order = exchange.create_order(symbol, order_type, side, amount, price)"
   ]
  },
  {
   "cell_type": "code",
   "execution_count": null,
   "metadata": {},
   "outputs": [],
   "source": [
    "print(order)"
   ]
  },
  {
   "cell_type": "code",
   "execution_count": null,
   "metadata": {},
   "outputs": [],
   "source": [
    "symbol = 'ADA/USDT'       \n",
    "order_type = 'market'      \n",
    "side = 'sell'              \n",
    "amount =            \n",
    "\n",
    "order = exchange.create_order(symbol, order_type, side, amount)"
   ]
  },
  {
   "cell_type": "markdown",
   "metadata": {
    "id": "u8sIwdzpp1-Y"
   },
   "source": [
    "<h1>Limit Orders</h1>"
   ]
  },
  {
   "cell_type": "code",
   "execution_count": null,
   "metadata": {},
   "outputs": [],
   "source": [
    "symbol = 'ADA/USDT'    \n",
    "order_type = 'limit'   \n",
    "side = 'buy'            \n",
    "amount_in_usdt = 10. \n",
    "price = 0.1  # The price at which you want to buy or sell\n",
    "\n",
    "current_price = (exchange.fetchTicker(symbol)['ask'] + exchange.fetchTicker(symbol)['bid'] ) / 2\n",
    "amount = amount_in_usdt / current_price \n",
    "\n",
    "order = exchange.create_order(symbol, order_type, side, amount, price)"
   ]
  },
  {
   "cell_type": "code",
   "execution_count": null,
   "metadata": {
    "id": "yt5dLuSBp1-Y"
   },
   "outputs": [],
   "source": [
    "exchange.cancelOrder(order['id'], symbol)"
   ]
  },
  {
   "cell_type": "code",
   "execution_count": null,
   "metadata": {
    "id": "V3GbuHCqBMxj"
   },
   "outputs": [],
   "source": [
    "# exchange.createMarketBuyOrder (symbol, amount[, params])\n",
    "# exchange.createMarketSellOrder (symbol, amount[, params])\n",
    "# exchange.createLimitBuyOrder (symbol, amount, price[, params])\n",
    "# exchange.createLimitSellOrder (symbol, amount, price[, params])"
   ]
  },
  {
   "cell_type": "code",
   "execution_count": null,
   "metadata": {},
   "outputs": [],
   "source": []
  }
 ],
 "metadata": {
  "colab": {
   "collapsed_sections": [],
   "provenance": []
  },
  "kernelspec": {
   "display_name": "Python 3 (ipykernel)",
   "language": "python",
   "name": "python3"
  },
  "language_info": {
   "codemirror_mode": {
    "name": "ipython",
    "version": 3
   },
   "file_extension": ".py",
   "mimetype": "text/x-python",
   "name": "python",
   "nbconvert_exporter": "python",
   "pygments_lexer": "ipython3",
   "version": "3.10.6"
  }
 },
 "nbformat": 4,
 "nbformat_minor": 1
}
