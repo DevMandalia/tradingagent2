{
  "cells": [
    {
      "cell_type": "markdown",
      "metadata": {
        "id": "-nCTjinN1dXd"
      },
      "source": [
        "<h1>Package installation</h1>"
      ]
    },
    {
      "cell_type": "code",
      "execution_count": null,
      "metadata": {
        "id": "FQpoFECiJiLG"
      },
      "outputs": [],
      "source": [
        "%pip install ccxt\n",
        "%pip install time\n",
        "%pip install pandas\n",
        "%pip install mplfinance"
      ]
    },
    {
      "cell_type": "markdown",
      "metadata": {
        "id": "G3kKKxoL1xNo"
      },
      "source": [
        "<h1>Imports</h1>"
      ]
    },
    {
      "cell_type": "code",
      "execution_count": null,
      "metadata": {
        "id": "ix8j_V3gWOt5"
      },
      "outputs": [],
      "source": [
        "import ccxt\n",
        "import time\n",
        "import pandas as pd\n",
        "import mplfinance as mpf "
      ]
    },
    {
      "cell_type": "markdown",
      "metadata": {
        "id": "VLyBtxe4Xn6U"
      },
      "source": [
        "<h1>Exchange Setup</h1>"
      ]
    },
    {
      "cell_type": "code",
      "execution_count": null,
      "metadata": {
        "id": "-Ox7M5AMXn6V"
      },
      "outputs": [],
      "source": [
        "exchange = ccxt.kucoin()\n",
        "# exchange = ccxt.binance()\n",
        "exchange.load_markets() # to get all the info about the markets in the exchange"
      ]
    },
    {
      "cell_type": "code",
      "execution_count": null,
      "metadata": {
        "id": "Vx8Fr4gI9ecg"
      },
      "outputs": [],
      "source": [
        "exchange.symbols # to get all the coin pairs in the exchange"
      ]
    },
    {
      "cell_type": "markdown",
      "metadata": {
        "id": "H--CcKnq9ech"
      },
      "source": [
        "<h1>Coin Specs</h1>"
      ]
    },
    {
      "cell_type": "code",
      "execution_count": null,
      "metadata": {
        "id": "VVbsqQhG9eci"
      },
      "outputs": [],
      "source": [
        "coin_name = \"ETH/USDT\"\n",
        "resolution = \"1d\"\n",
        "starting_date = \"01 September 2022\""
      ]
    },
    {
      "cell_type": "markdown",
      "metadata": {
        "id": "BEmSeIfaXn6V"
      },
      "source": [
        "<h1>OHLCV Data</h1>"
      ]
    },
    {
      "cell_type": "code",
      "execution_count": null,
      "metadata": {
        "id": "hjRUhkHYXn6W",
        "scrolled": true
      },
      "outputs": [],
      "source": [
        "#OHLCV = Open, High, Low, Close, Volume\n",
        "starting_date = time.strptime(starting_date, \"%d %B %Y\") # convert to time.struct_time\n",
        "starting_date = time.mktime(starting_date) # convert to seconds\n",
        "starting_date = starting_date*1000 # convert to milliseconds for kucoin\n",
        "\n",
        "data = exchange.fetchOHLCV(coin_name, timeframe=resolution, since=starting_date)\n",
        "data"
      ]
    },
    {
      "cell_type": "code",
      "execution_count": null,
      "metadata": {
        "id": "zQTD8fAj9eck"
      },
      "outputs": [],
      "source": [
        "# storing it into a pandas data frame\n",
        "data = pd.DataFrame(data, columns = ['timestamp', 'open', 'high', 'low', 'close', 'volume'])\n",
        "\n",
        "# formating the index\n",
        "data.set_index(data['timestamp'], inplace=True)\n",
        "data.index = pd.to_datetime(data.index, unit='ms')\n",
        "del data['timestamp']\n",
        "\n",
        "# formating the numbers\n",
        "data[\"close\"] = pd.to_numeric(data[\"close\"])\n",
        "data[\"high\"] = pd.to_numeric(data[\"high\"])\n",
        "data[\"low\"] = pd.to_numeric(data[\"low\"])\n",
        "data[\"open\"] = pd.to_numeric(data[\"open\"])\n",
        "data[\"volume\"] = pd.to_numeric(data[\"volume\"])\n",
        "data"
      ]
    },
    {
      "cell_type": "markdown",
      "metadata": {
        "id": "EwJjbosT9ecm"
      },
      "source": [
        "<h1>Chart</h1>"
      ]
    },
    {
      "cell_type": "code",
      "execution_count": null,
      "metadata": {
        "id": "5MDMSqCn9ecm"
      },
      "outputs": [],
      "source": [
        "mpf.plot(\n",
        "    data, \n",
        "    type = 'candle', \n",
        "    style = \"binance\",\n",
        "    title = f\"{coin_name}\",  \n",
        "    ylabel = 'Price',\n",
        "    volume = True, \n",
        "    ylabel_lower='Volume',\n",
        "    mav = (5,10),\n",
        "#     savefig='plot.png',\n",
        ")"
      ]
    }
  ],
  "metadata": {
    "colab": {
      "collapsed_sections": [],
      "provenance": []
    },
    "kernelspec": {
      "display_name": "Python 3 (ipykernel)",
      "language": "python",
      "name": "python3"
    },
    "language_info": {
      "codemirror_mode": {
        "name": "ipython",
        "version": 3
      },
      "file_extension": ".py",
      "mimetype": "text/x-python",
      "name": "python",
      "nbconvert_exporter": "python",
      "pygments_lexer": "ipython3",
      "version": "3.10.4"
    }
  },
  "nbformat": 4,
  "nbformat_minor": 0
}