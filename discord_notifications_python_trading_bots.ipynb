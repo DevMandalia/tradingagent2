{
 "cells": [
  {
   "cell_type": "code",
   "execution_count": null,
   "id": "initial_id",
   "metadata": {
    "ExecuteTime": {
     "end_time": "2024-08-01T10:50:00.228716Z",
     "start_time": "2024-08-01T10:49:59.710522Z"
    },
    "collapsed": true
   },
   "outputs": [],
   "source": [
    "import ccxt\n",
    "import requests\n",
    "import json"
   ]
  },
  {
   "cell_type": "code",
   "execution_count": null,
   "id": "a84bcee339229589",
   "metadata": {
    "ExecuteTime": {
     "end_time": "2024-08-01T10:50:00.238484Z",
     "start_time": "2024-08-01T10:50:00.229724Z"
    }
   },
   "outputs": [],
   "source": [
    "with open(\"secret.json\", \"r\") as f:\n",
    "    api_key = json.load(f)['devtest']\n",
    "\n",
    "authentification = {\n",
    "    \"apiKey\": api_key['apiKey'],\n",
    "    \"secret\": api_key['secret'],\n",
    "    \"password\": api_key['password'],\n",
    "}\n",
    "\n",
    "bitget = ccxt.bitget(authentification)"
   ]
  },
  {
   "cell_type": "code",
   "execution_count": null,
   "id": "dfd00f5d0eb47283",
   "metadata": {
    "ExecuteTime": {
     "end_time": "2024-08-01T10:50:07.687273Z",
     "start_time": "2024-08-01T10:50:00.238484Z"
    }
   },
   "outputs": [],
   "source": [
    "balance = bitget.fetch_balance(params={'defaultType': 'future'})['USDT']\n",
    "print(balance)"
   ]
  },
  {
   "cell_type": "code",
   "execution_count": null,
   "id": "a1dcd0ab89b4e9e5",
   "metadata": {
    "ExecuteTime": {
     "end_time": "2024-08-01T10:50:14.473124Z",
     "start_time": "2024-08-01T10:50:14.431098Z"
    }
   },
   "outputs": [],
   "source": [
    "def place_order(symbol, side, amount, reduce_only=False):\n",
    "    amount = bitget.amount_to_precision(symbol, amount)\n",
    "    order = bitget.create_order(symbol, 'market', side, amount, params={'marginMode': 'isolated', 'reduceOnly': reduce_only})\n",
    "    order_info = bitget.fetch_order(order['id'], symbol) # https://www.bitget.com/api-doc/contract/trade/Get-Order-Details\n",
    "    print(order_info)\n"
   ]
  },
  {
   "cell_type": "code",
   "execution_count": null,
   "id": "74d6584f",
   "metadata": {},
   "outputs": [],
   "source": [
    "symbol = 'LINK/USDT:USDT'\n",
    "side = 'buy'\n",
    "amount = 3\n",
    "\n",
    "place_order(symbol, side, amount)"
   ]
  },
  {
   "cell_type": "code",
   "execution_count": null,
   "id": "36833002",
   "metadata": {},
   "outputs": [],
   "source": [
    "symbol = 'LINK/USDT:USDT'\n",
    "side = 'sell'\n",
    "amount = 3\n",
    "\n",
    "place_order(symbol, side, amount, reduce_only=True)"
   ]
  },
  {
   "cell_type": "code",
   "execution_count": null,
   "id": "2c82f5582986fde6",
   "metadata": {},
   "outputs": [],
   "source": [
    "def send_order_info_to_discord(order_info, webhook_url):\n",
    "    balance = bitget.fetch_balance(params={'defaultType': 'future'})['USDT']\n",
    "    title = symbol\n",
    "    description = (\n",
    "        f\"Amount: {order_info['info']['size']}\\n\"\n",
    "        f\"Average Price: {order_info['info']['priceAvg']}\\n\"\n",
    "        f\"Total PnL: {order_info['info']['totalProfits']}\\n\"\n",
    "        f\"Fee: {order_info['info']['fee']}\\n\"\n",
    "        f\"Free account balance : {round(balance['free'], 2)}\\n\"\n",
    "        f\"Total account balance : {round(balance['total'], 2)}\\n\"\n",
    "        \n",
    "    )\n",
    "    if order_info['side'] == \"buy\":\n",
    "        color = 0x00FF00  # Green\n",
    "    elif order_info['side'] == \"sell\":\n",
    "        color = 0xFF0000  # Red\n",
    "\n",
    "    data = {\n",
    "        \"embeds\": [{\n",
    "            \"title\": title,\n",
    "            \"description\": description,\n",
    "            \"color\": color\n",
    "        }]\n",
    "    }\n",
    "\n",
    "    requests.post(webhook_url, json=data)"
   ]
  },
  {
   "cell_type": "code",
   "execution_count": null,
   "id": "693e58f4",
   "metadata": {},
   "outputs": [],
   "source": [
    "def place_order_and_send_discord_notif(symbol, side, amount, reduce_only=False):\n",
    "    webhook_url = 'https://discord.com/api/webhooks/1274701683816927349/CgWWp8Wu-JTRU1nj2aLq8Rcba5EpURU5E-dd4hVK_3eqOrvVqi-iGayqZQQV0_mfqfCL'\n",
    "    amount = bitget.amount_to_precision(symbol, amount)\n",
    "    order = bitget.create_order(symbol, 'market', side, amount, params={'marginMode': 'isolated', 'reduceOnly': reduce_only})\n",
    "    order_info = bitget.fetch_order(order['id'], symbol)\n",
    "    send_order_info_to_discord(order_info, webhook_url)"
   ]
  },
  {
   "cell_type": "code",
   "execution_count": null,
   "id": "8dda553e",
   "metadata": {},
   "outputs": [],
   "source": [
    "symbol = 'LINK/USDT:USDT'\n",
    "side = 'buy'\n",
    "amount = 2\n",
    "\n",
    "place_order_and_send_discord_notif(symbol, side, amount)"
   ]
  },
  {
   "cell_type": "code",
   "execution_count": null,
   "id": "c83d072b",
   "metadata": {},
   "outputs": [],
   "source": [
    "symbol = 'LINK/USDT:USDT'\n",
    "side = 'sell'\n",
    "amount = 2\n",
    "\n",
    "place_order_and_send_discord_notif(symbol, side, amount, reduce_only=True)"
   ]
  }
 ],
 "metadata": {
  "kernelspec": {
   "display_name": "Python 3",
   "language": "python",
   "name": "python3"
  },
  "language_info": {
   "codemirror_mode": {
    "name": "ipython",
    "version": 3
   },
   "file_extension": ".py",
   "mimetype": "text/x-python",
   "name": "python",
   "nbconvert_exporter": "python",
   "pygments_lexer": "ipython3",
   "version": "3.12.0"
  }
 },
 "nbformat": 4,
 "nbformat_minor": 5
}
