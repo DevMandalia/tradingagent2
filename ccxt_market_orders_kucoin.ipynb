{
  "cells": [
    {
      "cell_type": "markdown",
      "metadata": {
        "id": "-nCTjinN1dXd"
      },
      "source": [
        "<h1>Package installation</h1>"
      ]
    },
    {
      "cell_type": "code",
      "execution_count": null,
      "metadata": {
        "id": "FQpoFECiJiLG"
      },
      "outputs": [],
      "source": [
        "%pip install ccxt"
      ]
    },
    {
      "cell_type": "markdown",
      "metadata": {
        "id": "G3kKKxoL1xNo"
      },
      "source": [
        "<h1>Imports</h1>"
      ]
    },
    {
      "cell_type": "code",
      "execution_count": null,
      "metadata": {
        "id": "ix8j_V3gWOt5"
      },
      "outputs": [],
      "source": [
        "import ccxt"
      ]
    },
    {
      "cell_type": "markdown",
      "metadata": {
        "id": "VLyBtxe4Xn6U"
      },
      "source": [
        "<h1>Exchange Setup</h1>"
      ]
    },
    {
      "cell_type": "code",
      "source": [
        "kucoin = ccxt.kucoin()\n",
        "kucoin.requiredCredentials"
      ],
      "metadata": {
        "id": "xRKG2uVuCeqN"
      },
      "execution_count": null,
      "outputs": []
    },
    {
      "cell_type": "code",
      "execution_count": null,
      "metadata": {
        "id": "-Ox7M5AMXn6V"
      },
      "outputs": [],
      "source": [
        "authentification = {\n",
        "    \"apiKey\": \"\",\n",
        "    \"secret\": \"\",\n",
        "    \"password\": \"\",\n",
        "}\n",
        "\n",
        "kucoin = ccxt.kucoin(authentification)"
      ]
    },
    {
      "cell_type": "markdown",
      "metadata": {
        "id": "BCbiru_pp1-V"
      },
      "source": [
        "<h1>Coin</h1>"
      ]
    },
    {
      "cell_type": "code",
      "execution_count": null,
      "metadata": {
        "id": "ZqmRXvC8p1-X"
      },
      "outputs": [],
      "source": [
        "coin = \"KCS/USDT\""
      ]
    },
    {
      "cell_type": "markdown",
      "metadata": {
        "id": "u8sIwdzpp1-Y"
      },
      "source": [
        "<h1>Check Balance</h1>"
      ]
    },
    {
      "cell_type": "code",
      "execution_count": null,
      "metadata": {
        "id": "yt5dLuSBp1-Y"
      },
      "outputs": [],
      "source": [
        "# kucoin.fetchBalance()\n",
        "# kucoin.fetchBalance()[\"total\"]\n",
        "print(\"USDT\", kucoin.fetchBalance()[\"USDT\"])\n",
        "print(\"KCS\", kucoin.fetchBalance()[\"KCS\"])"
      ]
    },
    {
      "cell_type": "markdown",
      "source": [
        "<h1>Check Prices</h1>"
      ],
      "metadata": {
        "id": "G9ToPV2LBIao"
      }
    },
    {
      "cell_type": "code",
      "source": [
        "kucoin.fetchTicker(coin)"
      ],
      "metadata": {
        "id": "V3GbuHCqBMxj"
      },
      "execution_count": null,
      "outputs": []
    },
    {
      "cell_type": "markdown",
      "metadata": {
        "id": "BEmSeIfaXn6V"
      },
      "source": [
        "<h1>Buy Order</h1>"
      ]
    },
    {
      "cell_type": "code",
      "execution_count": null,
      "metadata": {
        "id": "hjRUhkHYXn6W"
      },
      "outputs": [],
      "source": [
        "order_type = \"market\"\n",
        "side = \"buy\"\n",
        "\n",
        "current_price = (kucoin.fetchTicker(coin)['ask'] + kucoin.fetchTicker(coin)['bid'] ) / 2\n",
        "amount = 5 / current_price\n",
        "\n",
        "kucoin.createOrder(\n",
        "    coin,\n",
        "    order_type,\n",
        "    side,\n",
        "    amount,\n",
        ")\n",
        "# buy market order execution price =  ask \n",
        "\n",
        "# kucoin.createMarketBuyOrder(coin, amount)"
      ]
    },
    {
      "cell_type": "code",
      "execution_count": null,
      "metadata": {
        "id": "MIXmEPR9DRT8"
      },
      "outputs": [],
      "source": [
        "print(\"USDT\", kucoin.fetchBalance()[\"USDT\"])\n",
        "print(\"KCS\", kucoin.fetchBalance()[\"KCS\"])"
      ]
    },
    {
      "cell_type": "markdown",
      "metadata": {
        "id": "qPDd9CNOp1-b"
      },
      "source": [
        "<h1>Sell Order</h1>"
      ]
    },
    {
      "cell_type": "code",
      "execution_count": null,
      "metadata": {
        "id": "HDnmE9Iop1-c"
      },
      "outputs": [],
      "source": [
        "order_type = \"market\"\n",
        "side = \"sell\"\n",
        "amount = \n",
        "\n",
        "kucoin.createOrder(\n",
        "    coin,\n",
        "    order_type,\n",
        "    side,\n",
        "    amount,\n",
        ")\n",
        "\n",
        "# sell market order execution price = bid \n",
        "\n",
        "# kucoin.createMarketSellOrder(coin, amount)"
      ]
    },
    {
      "cell_type": "code",
      "execution_count": null,
      "metadata": {
        "id": "4KfbIeaqp1-d"
      },
      "outputs": [],
      "source": [
        "print(\"USDT\", kucoin.fetchBalance()[\"USDT\"])\n",
        "print(\"KCS\", kucoin.fetchBalance()[\"KCS\"])"
      ]
    }
  ],
  "metadata": {
    "colab": {
      "collapsed_sections": [],
      "provenance": []
    },
    "kernelspec": {
      "display_name": "Python 3 (ipykernel)",
      "language": "python",
      "name": "python3"
    },
    "language_info": {
      "codemirror_mode": {
        "name": "ipython",
        "version": 3
      },
      "file_extension": ".py",
      "mimetype": "text/x-python",
      "name": "python",
      "nbconvert_exporter": "python",
      "pygments_lexer": "ipython3",
      "version": "3.10.6"
    }
  },
  "nbformat": 4,
  "nbformat_minor": 0
}