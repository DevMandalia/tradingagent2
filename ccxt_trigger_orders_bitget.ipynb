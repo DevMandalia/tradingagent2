{
 "cells": [
  {
   "cell_type": "code",
   "execution_count": null,
   "metadata": {},
   "outputs": [],
   "source": [
    "import json\n",
    "import ccxt"
   ]
  },
  {
   "cell_type": "code",
   "execution_count": null,
   "metadata": {},
   "outputs": [],
   "source": [
    "with open(\"secret.json\", \"r\") as f:\n",
    "    api_key = json.load(f)['devtest']\n",
    "\n",
    "authentification = {\n",
    "    # \"apiKey\": \"\",  \n",
    "    \"apiKey\": api_key['apiKey'],\n",
    "    \"secret\": api_key['secret'],\n",
    "    \"password\": api_key['password'],\n",
    "}\n",
    "\n",
    "bitget = ccxt.bitget(authentification)"
   ]
  },
  {
   "cell_type": "code",
   "execution_count": null,
   "metadata": {},
   "outputs": [],
   "source": [
    "symbol = 'ETH/USDT:USDT'\n",
    "order_type = 'market'\n",
    "side = 'buy'\n",
    "amount = 0.02\n",
    "params = {\n",
    "    'triggerPrice': 3500, \n",
    "}\n",
    "order_entry = bitget.create_order(symbol, order_type, side, amount, params=params)\n",
    "print(order_entry)"
   ]
  },
  {
   "cell_type": "code",
   "execution_count": null,
   "metadata": {},
   "outputs": [],
   "source": [
    "symbol = 'ETH/USDT:USDT'\n",
    "order_type = 'market'\n",
    "side = 'sell'\n",
    "amount = 0.02\n",
    "params = {\n",
    "    'triggerPrice': 3800, \n",
    "    'reduceOnly': True,\n",
    "}\n",
    "order_tp = bitget.create_order(symbol, order_type, side, amount, params=params)\n",
    "print(order_tp)\n",
    "\n",
    "symbol = 'ETH/USDT:USDT'\n",
    "order_type = 'market'\n",
    "side = 'sell'\n",
    "amount = 0.02\n",
    "params = {\n",
    "    'triggerPrice': 3400, \n",
    "    'reduceOnly': True,\n",
    "}\n",
    "order_sl = bitget.create_order(symbol, order_type, side, amount, params=params)\n",
    "print(order_sl)\n"
   ]
  },
  {
   "cell_type": "code",
   "execution_count": null,
   "metadata": {},
   "outputs": [],
   "source": [
    "params={'stop': True}\n",
    "bitget.cancel_order(order_entry['id'], symbol, params=params)\n",
    "bitget.cancel_order(order_tp['id'], symbol, params=params)\n",
    "bitget.cancel_order(order_sl['id'], symbol, params=params)"
   ]
  },
  {
   "cell_type": "code",
   "execution_count": null,
   "metadata": {},
   "outputs": [],
   "source": [
    "symbol = 'ETH/USDT:USDT'\n",
    "order_type = 'limit'\n",
    "side = 'buy'\n",
    "amount = 0.02\n",
    "price = 3500\n",
    "params = {\n",
    "    'triggerPrice': 3498, \n",
    "}\n",
    "order_entry = bitget.create_order(symbol, order_type, side, amount, price, params=params)\n",
    "print(order_entry)"
   ]
  }
 ],
 "metadata": {
  "kernelspec": {
   "display_name": "Python 3",
   "language": "python",
   "name": "python3"
  },
  "language_info": {
   "codemirror_mode": {
    "name": "ipython",
    "version": 3
   },
   "file_extension": ".py",
   "mimetype": "text/x-python",
   "name": "python",
   "nbconvert_exporter": "python",
   "pygments_lexer": "ipython3",
   "version": "3.12.0"
  }
 },
 "nbformat": 4,
 "nbformat_minor": 2
}
